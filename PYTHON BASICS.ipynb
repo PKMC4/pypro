{
 "cells": [
  {
   "cell_type": "markdown",
   "metadata": {},
   "source": [
    "# PYTHON CONCEPTS\n",
    "## WORKSHOP OF ML USING PYTHON\n",
    "\n",
    "LEARNING ML USING PYTHON IN VIGNAN\n",
    "\n",
    "* ONE\n",
    "* TWO\n",
    "* THREE\n",
    "    * Three_one\n",
    "    * Three_two\n",
    "        *sub_list1\n",
    "        *sub_list2\n",
    "        \n",
    "My Name is ***BOLD AND ITALIC***\n",
    "\n",
    "We are working on **BOLD**\n",
    "\n",
    "In *ITALIC\" in view.\n",
    "\n",
    "# LINKS\n",
    "\n",
    "[google](https://www.google.com)\n"
   ]
  },
  {
   "cell_type": "code",
   "execution_count": 1,
   "metadata": {},
   "outputs": [
    {
     "data": {
      "text/plain": [
       "30"
      ]
     },
     "execution_count": 1,
     "metadata": {},
     "output_type": "execute_result"
    }
   ],
   "source": [
    "#arithmetic operations\n",
    "a=10\n",
    "b=20\n",
    "a+b"
   ]
  },
  {
   "cell_type": "code",
   "execution_count": 12,
   "metadata": {},
   "outputs": [
    {
     "name": "stdout",
     "output_type": "stream",
     "text": [
      "enter a value10\n",
      "enter b value20\n",
      "1.Addition\n",
      "2.Subtraction\n",
      "3.Multiplication\n",
      "4.Division\n",
      "5Floor Division\n",
      "6.Module\n",
      "Enter your choice1\n",
      "The addition of 10 and 20 is 30\n"
     ]
    }
   ],
   "source": [
    "#take input from the user\n",
    "a=int(input(\"enter a value\"))\n",
    "b=int(input(\"enter b value\"))\n",
    "print(\"1.Addition\")\n",
    "print(\"2.Subtraction\")\n",
    "print(\"3.Multiplication\")\n",
    "print(\"4.Division\")\n",
    "print(\"5Floor Division\")\n",
    "print(\"6.Module\")\n",
    "\n",
    "ch = int(input(\"Enter your choice\"))\n",
    "\n",
    "if(ch==1):\n",
    "    print(\"The addition of {0} and {1} is {2}\".format(a,b,a+b))\n",
    "elif(ch==2):\n",
    "     print(\"The subtraction of {o} and {1} is {2}\".format(a,b,a-b))\n",
    "elif(ch==3):\n",
    "     print(\"The multiplication of {o} and {1} is {2}\".format(a,b,a*b))\n",
    "elif(ch==4):\n",
    "     print(\"The division of {o} and {1} is {2}\".format(a,b,a/b))\n",
    "elif(ch==5):\n",
    "     print(\"The Floor Division of {o} and {1} is {2}\".format(a,b,a//b))\n",
    "elif(ch==6):\n",
    "     print(\"The module of {o} and {1} is {2}\".format(a,b,a%b))\n",
    "else:\n",
    "    print(\"You Selected Wrong Choice\")\n"
   ]
  },
  {
   "cell_type": "code",
   "execution_count": 13,
   "metadata": {},
   "outputs": [
    {
     "data": {
      "text/plain": [
       "True"
      ]
     },
     "execution_count": 13,
     "metadata": {},
     "output_type": "execute_result"
    }
   ],
   "source": [
    "#logical operators : and,or,not\n",
    "\n",
    "#True and True\n",
    "\n",
    "#True or False\n",
    "\n",
    "#not True\n",
    "\n",
    "#not False"
   ]
  },
  {
   "cell_type": "markdown",
   "metadata": {},
   "source": [
    "## LOOPING STATEMENTS\n",
    "\n",
    "###  while:\n",
    "      \n",
    "     SYNTAX:\n",
    "        while condition:\n",
    "            statements\n",
    "            increment/decrement"
   ]
  },
  {
   "cell_type": "code",
   "execution_count": 17,
   "metadata": {},
   "outputs": [
    {
     "name": "stdout",
     "output_type": "stream",
     "text": [
      "0 1 2 3 4 5 6 7 8 9 10 11 12 13 14 15 16 17 18 19 20 21 22 23 24 25 26 27 28 29 30 31 32 33 34 35 36 37 38 39 40 41 42 43 44 45 46 47 48 49 50 51 52 53 54 55 56 57 58 59 60 61 62 63 64 65 66 67 68 69 70 71 72 73 74 75 76 77 78 79 80 81 82 83 84 85 86 87 88 89 90 91 92 93 94 95 96 97 98 99 100 Outside While Loop\n"
     ]
    }
   ],
   "source": [
    "#print number from 0 to 100\n",
    "var=0\n",
    "while(var<=100):\n",
    "    print(var,end=\" \")\n",
    "    var = var + 1\n",
    "\n",
    "print(\"Outside While Loop\")"
   ]
  },
  {
   "cell_type": "markdown",
   "metadata": {},
   "source": [
    "### for:\n",
    "   SYNTAX:\n",
    "      for var in sequence/range:\n",
    "          statements"
   ]
  },
  {
   "cell_type": "code",
   "execution_count": 25,
   "metadata": {},
   "outputs": [
    {
     "name": "stdout",
     "output_type": "stream",
     "text": [
      "0 1 2 3 4 5 6 7 8 9 \n",
      "20 21 22 23 24 25 26 27 28 29 \n",
      "1 2 3 4 5 6 7 8 9 "
     ]
    }
   ],
   "source": [
    "for var in range(10):\n",
    "    print(var,end=\" \")\n",
    "    \n",
    "print()\n",
    "for var in range(20,30):\n",
    "    print(var,end=\" \")\n",
    "    \n",
    "print()  \n",
    "for surbhi in range(1,10,1):\n",
    "   print(surbhi,end=\" \")"
   ]
  },
  {
   "cell_type": "code",
   "execution_count": null,
   "metadata": {},
   "outputs": [],
   "source": []
  }
 ],
 "metadata": {
  "kernelspec": {
   "display_name": "Python 3",
   "language": "python",
   "name": "python3"
  },
  "language_info": {
   "codemirror_mode": {
    "name": "ipython",
    "version": 3
   },
   "file_extension": ".py",
   "mimetype": "text/x-python",
   "name": "python",
   "nbconvert_exporter": "python",
   "pygments_lexer": "ipython3",
   "version": "3.7.3"
  }
 },
 "nbformat": 4,
 "nbformat_minor": 2
}
